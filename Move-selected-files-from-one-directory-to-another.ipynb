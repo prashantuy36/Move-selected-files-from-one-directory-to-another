{
 "cells": [
  {
   "cell_type": "code",
   "execution_count": null,
   "metadata": {},
   "outputs": [],
   "source": [
    "import shutil\n",
    "import os\n",
    "\n",
    "source_dir = r'D:\\[CourseClub.ME] AppliedAICourse - Applied Machine Learning Course\\to do'\n",
    "dest_dir = r'D:\\[CourseClub.ME] AppliedAICourse - Applied Machine Learning Course\\Applied AI'\n",
    "\n",
    "arr = os.listdir(source_dir)\n",
    "for i in arr:\n",
    "    sub_folder = os.path.join(dest_dir, i)\n",
    "    os.mkdir(sub_folder)"
   ]
  },
  {
   "cell_type": "code",
   "execution_count": null,
   "metadata": {},
   "outputs": [],
   "source": [
    "source_dir = r'D:\\[CourseClub.ME] AppliedAICourse - Applied Machine Learning Course\\to do'\n",
    "dest_dir = r'D:\\[CourseClub.ME] AppliedAICourse - Applied Machine Learning Course\\Applied AI'\n",
    "arr = os.listdir(source_dir)\n",
    "\n",
    "for i in arr:\n",
    "    sub_folder = os.path.join(source_dir, i)\n",
    "    arr2 = os.listdir(sub_folder)\n",
    "    for j in arr2:\n",
    "        if j.endswith(\".mp4\") or j.endswith(\".mkv\") or j.endswith(\".pdf\"):\n",
    "            path = os.path.join(dest_dir, i)\n",
    "            shutil.move(os.path.join(sub_folder, j), path)"
   ]
  }
 ],
 "metadata": {
  "kernelspec": {
   "display_name": "Python 3",
   "language": "python",
   "name": "python3"
  },
  "language_info": {
   "codemirror_mode": {
    "name": "ipython",
    "version": 3
   },
   "file_extension": ".py",
   "mimetype": "text/x-python",
   "name": "python",
   "nbconvert_exporter": "python",
   "pygments_lexer": "ipython3",
   "version": "3.8.5"
  }
 },
 "nbformat": 4,
 "nbformat_minor": 4
}
